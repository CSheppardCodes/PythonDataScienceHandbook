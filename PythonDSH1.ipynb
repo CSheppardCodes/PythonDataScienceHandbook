{
  "nbformat": 4,
  "nbformat_minor": 0,
  "metadata": {
    "colab": {
      "provenance": [],
      "authorship_tag": "ABX9TyMOSV1eWLMHh39O49eL+0at",
      "include_colab_link": true
    },
    "kernelspec": {
      "name": "python3",
      "display_name": "Python 3"
    },
    "language_info": {
      "name": "python"
    }
  },
  "cells": [
    {
      "cell_type": "markdown",
      "metadata": {
        "id": "view-in-github",
        "colab_type": "text"
      },
      "source": [
        "<a href=\"https://colab.research.google.com/github/CSheppardCodes/PythonDataScienceHandbook/blob/main/PythonDSH1.ipynb\" target=\"_parent\"><img src=\"https://colab.research.google.com/assets/colab-badge.svg\" alt=\"Open In Colab\"/></a>"
      ]
    },
    {
      "cell_type": "markdown",
      "source": [
        "##SECTION 1 IPYTHON"
      ],
      "metadata": {
        "id": "xFZqiqfBQ9kL"
      }
    },
    {
      "cell_type": "markdown",
      "source": [
        "enter ! to type terminal commands in Ipython"
      ],
      "metadata": {
        "id": "zb77TxPtQO6Z"
      }
    },
    {
      "cell_type": "code",
      "execution_count": 68,
      "metadata": {
        "colab": {
          "base_uri": "https://localhost:8080/"
        },
        "id": "V0CC1OSzkN7P",
        "outputId": "1eb33822-8c05-4160-aac5-1bb8343055bd"
      },
      "outputs": [
        {
          "output_type": "stream",
          "name": "stdout",
          "text": [
            "/content\n"
          ]
        },
        {
          "output_type": "execute_result",
          "data": {
            "text/plain": [
              "IPython.utils.text.SList"
            ]
          },
          "metadata": {},
          "execution_count": 68
        }
      ],
      "source": [
        "directory = !pwd\n",
        "\n",
        "print(directory[0])\n",
        "type(directory)"
      ]
    },
    {
      "cell_type": "markdown",
      "source": [
        "?? shows python code used to create function\n",
        "%xmode adjusts error message modality"
      ],
      "metadata": {
        "id": "tr1VbzdMQWeT"
      }
    },
    {
      "cell_type": "code",
      "source": [
        "list??\n",
        "%xmode verbose"
      ],
      "metadata": {
        "colab": {
          "base_uri": "https://localhost:8080/"
        },
        "id": "EQLpYOzYy0Jw",
        "outputId": "9b860e0f-f74a-4674-e506-f70cb41fd669"
      },
      "execution_count": 69,
      "outputs": [
        {
          "output_type": "stream",
          "name": "stdout",
          "text": [
            "Exception reporting mode: Verbose\n"
          ]
        }
      ]
    },
    {
      "cell_type": "code",
      "source": [
        "%automagic # \n"
      ],
      "metadata": {
        "colab": {
          "base_uri": "https://localhost:8080/"
        },
        "id": "dGnE1Ugb22D0",
        "outputId": "b5400756-d13a-4897-bb36-aa410cea9c85"
      },
      "execution_count": 70,
      "outputs": [
        {
          "output_type": "stream",
          "name": "stdout",
          "text": [
            "\n",
            "Automagic is ON, % prefix IS NOT needed for line magics.\n"
          ]
        }
      ]
    },
    {
      "cell_type": "code",
      "source": [
        "ls# error to test %xmode error message, toggle automagic for ls command to work."
      ],
      "metadata": {
        "colab": {
          "base_uri": "https://localhost:8080/"
        },
        "id": "Av7wWD1W0uke",
        "outputId": "7030bdd0-6815-459e-8ecc-8f5c90dd7ecc"
      },
      "execution_count": 71,
      "outputs": [
        {
          "output_type": "stream",
          "name": "stdout",
          "text": [
            "\u001b[0m\u001b[01;34msample_data\u001b[0m/\n"
          ]
        }
      ]
    },
    {
      "cell_type": "markdown",
      "source": [
        "##SECTION 2 INTRO TO NUMPY"
      ],
      "metadata": {
        "id": "wG3mQwx_Q26N"
      }
    },
    {
      "cell_type": "code",
      "source": [
        "import numpy as np\n",
        "np.__version__"
      ],
      "metadata": {
        "id": "eVoWTTUR28Rx",
        "colab": {
          "base_uri": "https://localhost:8080/",
          "height": 35
        },
        "outputId": "c629c80a-a3a2-4f04-e8ff-1c34bafdd721"
      },
      "execution_count": 72,
      "outputs": [
        {
          "output_type": "execute_result",
          "data": {
            "text/plain": [
              "'1.22.4'"
            ],
            "application/vnd.google.colaboratory.intrinsic+json": {
              "type": "string"
            }
          },
          "metadata": {},
          "execution_count": 72
        }
      ]
    },
    {
      "cell_type": "code",
      "source": [
        "np?\n"
      ],
      "metadata": {
        "id": "rAE25wqzFTgG"
      },
      "execution_count": 73,
      "outputs": []
    },
    {
      "cell_type": "markdown",
      "source": [
        "#Creating Arrays from Scratch"
      ],
      "metadata": {
        "id": "VZFG9cPHMl99"
      }
    },
    {
      "cell_type": "code",
      "source": [
        "np.zeros(10, dtype=int) #length 10 int array filled with zeros"
      ],
      "metadata": {
        "id": "7pG9TfrxFqhj",
        "colab": {
          "base_uri": "https://localhost:8080/"
        },
        "outputId": "044eb1f7-c602-4836-c467-ff2fe94bab55"
      },
      "execution_count": 74,
      "outputs": [
        {
          "output_type": "execute_result",
          "data": {
            "text/plain": [
              "array([0, 0, 0, 0, 0, 0, 0, 0, 0, 0])"
            ]
          },
          "metadata": {},
          "execution_count": 74
        }
      ]
    },
    {
      "cell_type": "code",
      "source": [
        "np.ones((3,5), dtype=float)#3x5 matrix filled with ones"
      ],
      "metadata": {
        "colab": {
          "base_uri": "https://localhost:8080/"
        },
        "id": "l9Yla3toM1bz",
        "outputId": "2afeb22f-d6fa-4f71-e862-43610fab4608"
      },
      "execution_count": 75,
      "outputs": [
        {
          "output_type": "execute_result",
          "data": {
            "text/plain": [
              "array([[1., 1., 1., 1., 1.],\n",
              "       [1., 1., 1., 1., 1.],\n",
              "       [1., 1., 1., 1., 1.]])"
            ]
          },
          "metadata": {},
          "execution_count": 75
        }
      ]
    },
    {
      "cell_type": "code",
      "source": [
        "np.full((3,5), 3.14) # ((rows, col), fillwith)"
      ],
      "metadata": {
        "colab": {
          "base_uri": "https://localhost:8080/"
        },
        "id": "oQXXhSapNm-H",
        "outputId": "464ced85-92b6-47da-bfc7-6f0ccb429377"
      },
      "execution_count": 76,
      "outputs": [
        {
          "output_type": "execute_result",
          "data": {
            "text/plain": [
              "array([[3.14, 3.14, 3.14, 3.14, 3.14],\n",
              "       [3.14, 3.14, 3.14, 3.14, 3.14],\n",
              "       [3.14, 3.14, 3.14, 3.14, 3.14]])"
            ]
          },
          "metadata": {},
          "execution_count": 76
        }
      ]
    },
    {
      "cell_type": "code",
      "source": [
        "np.arange(0,20,2)#(from, to, stepsize)\n"
      ],
      "metadata": {
        "colab": {
          "base_uri": "https://localhost:8080/"
        },
        "id": "n4W57CnkZCOz",
        "outputId": "209fcddd-7826-41be-ed9b-a8d38671e045"
      },
      "execution_count": 77,
      "outputs": [
        {
          "output_type": "execute_result",
          "data": {
            "text/plain": [
              "array([ 0,  2,  4,  6,  8, 10, 12, 14, 16, 18])"
            ]
          },
          "metadata": {},
          "execution_count": 77
        }
      ]
    },
    {
      "cell_type": "code",
      "source": [
        "np.linspace(0,1,5)#5 values evenly from 0 to 1"
      ],
      "metadata": {
        "colab": {
          "base_uri": "https://localhost:8080/"
        },
        "id": "EzejovpqZ99R",
        "outputId": "ccf7f306-dcfe-4ae0-e76f-b2208cdcf23f"
      },
      "execution_count": 78,
      "outputs": [
        {
          "output_type": "execute_result",
          "data": {
            "text/plain": [
              "array([0.  , 0.25, 0.5 , 0.75, 1.  ])"
            ]
          },
          "metadata": {},
          "execution_count": 78
        }
      ]
    },
    {
      "cell_type": "code",
      "source": [
        "np.random.random((3,4))#3x4 array uniformly distributed random floats between 0 and 1"
      ],
      "metadata": {
        "colab": {
          "base_uri": "https://localhost:8080/"
        },
        "id": "Dl_-ZLhJaq_5",
        "outputId": "5e108879-4e7c-49ec-a413-502f0f29602d"
      },
      "execution_count": 79,
      "outputs": [
        {
          "output_type": "execute_result",
          "data": {
            "text/plain": [
              "array([[0.43785481, 0.71083274, 0.99692951, 0.20564521],\n",
              "       [0.05922672, 0.9171189 , 0.75315821, 0.5785332 ],\n",
              "       [0.86223612, 0.46299481, 0.16154563, 0.79173144]])"
            ]
          },
          "metadata": {},
          "execution_count": 79
        }
      ]
    },
    {
      "cell_type": "code",
      "source": [
        "np.random.normal(0,1,(3,4))#3x4 normally distributed random, (mean, standard dev, (row, col|))"
      ],
      "metadata": {
        "colab": {
          "base_uri": "https://localhost:8080/"
        },
        "id": "ixxjReIhbh1G",
        "outputId": "f485ba20-33d5-4d42-cbe2-e513f5d621bc"
      },
      "execution_count": 80,
      "outputs": [
        {
          "output_type": "execute_result",
          "data": {
            "text/plain": [
              "array([[-0.93070574,  0.76232795, -0.20243874,  1.40511864],\n",
              "       [ 0.8674715 ,  1.90694543, -1.96928417, -1.79791376],\n",
              "       [ 0.30540342, -0.58468524,  0.01574332,  1.40758966]])"
            ]
          },
          "metadata": {},
          "execution_count": 80
        }
      ]
    },
    {
      "cell_type": "code",
      "source": [
        "np.random.randint(0,10,(3,4)) # 3x4 rand ints from [0, 10)"
      ],
      "metadata": {
        "colab": {
          "base_uri": "https://localhost:8080/"
        },
        "id": "o3v5MYiWcLFR",
        "outputId": "e58d603b-ebc8-4d37-9328-b09cd1ea4a9b"
      },
      "execution_count": 81,
      "outputs": [
        {
          "output_type": "execute_result",
          "data": {
            "text/plain": [
              "array([[4, 4, 7, 5],\n",
              "       [2, 1, 5, 2],\n",
              "       [7, 0, 4, 6]])"
            ]
          },
          "metadata": {},
          "execution_count": 81
        }
      ]
    },
    {
      "cell_type": "code",
      "source": [
        "np.eye(3,3, dtype='bool') #3x3 identity"
      ],
      "metadata": {
        "colab": {
          "base_uri": "https://localhost:8080/"
        },
        "id": "I5NxxzkPczH2",
        "outputId": "5c308f6c-20ad-4566-a79e-6ff62e859a4c"
      },
      "execution_count": 82,
      "outputs": [
        {
          "output_type": "execute_result",
          "data": {
            "text/plain": [
              "array([[ True, False, False],\n",
              "       [False,  True, False],\n",
              "       [False, False,  True]])"
            ]
          },
          "metadata": {},
          "execution_count": 82
        }
      ]
    },
    {
      "cell_type": "markdown",
      "source": [
        "Freestyle"
      ],
      "metadata": {
        "id": "ugqU4l2KeMYr"
      }
    },
    {
      "cell_type": "code",
      "source": [
        "np.empty(5)#unitialized ?really weird, values are what happens to already exist in that memory location"
      ],
      "metadata": {
        "colab": {
          "base_uri": "https://localhost:8080/"
        },
        "id": "PG0l9KgLdA0j",
        "outputId": "24a1909f-1b71-4769-d13f-90d03d770eb5"
      },
      "execution_count": 83,
      "outputs": [
        {
          "output_type": "execute_result",
          "data": {
            "text/plain": [
              "array([0.  , 0.25, 0.5 , 0.75, 1.  ])"
            ]
          },
          "metadata": {},
          "execution_count": 83
        }
      ]
    },
    {
      "cell_type": "code",
      "source": [
        "np.random.randint(0,10,(3))"
      ],
      "metadata": {
        "colab": {
          "base_uri": "https://localhost:8080/"
        },
        "id": "P-1GXclrdp-d",
        "outputId": "88139b77-ed1e-425c-94c6-756539ba9579"
      },
      "execution_count": 84,
      "outputs": [
        {
          "output_type": "execute_result",
          "data": {
            "text/plain": [
              "array([0, 9, 7])"
            ]
          },
          "metadata": {},
          "execution_count": 84
        }
      ]
    },
    {
      "cell_type": "code",
      "source": [
        "np.eye(1,3,dtype='uint8')"
      ],
      "metadata": {
        "colab": {
          "base_uri": "https://localhost:8080/"
        },
        "id": "eHD-h6s6ds0Z",
        "outputId": "f9453748-06f6-4efa-c581-006132ef2524"
      },
      "execution_count": 85,
      "outputs": [
        {
          "output_type": "execute_result",
          "data": {
            "text/plain": [
              "array([[1, 0, 0]], dtype=uint8)"
            ]
          },
          "metadata": {},
          "execution_count": 85
        }
      ]
    },
    {
      "cell_type": "markdown",
      "source": [
        "##Basics of Numerical Python Arrays"
      ],
      "metadata": {
        "id": "GC9epcGFiV_n"
      }
    },
    {
      "cell_type": "code",
      "source": [],
      "metadata": {
        "id": "W28dqVnteBRm"
      },
      "execution_count": 85,
      "outputs": []
    }
  ]
}