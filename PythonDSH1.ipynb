{
  "nbformat": 4,
  "nbformat_minor": 0,
  "metadata": {
    "colab": {
      "provenance": [],
      "authorship_tag": "ABX9TyP8JiDmOu2avpEJbduz7D+A",
      "include_colab_link": true
    },
    "kernelspec": {
      "name": "python3",
      "display_name": "Python 3"
    },
    "language_info": {
      "name": "python"
    }
  },
  "cells": [
    {
      "cell_type": "markdown",
      "metadata": {
        "id": "view-in-github",
        "colab_type": "text"
      },
      "source": [
        "<a href=\"https://colab.research.google.com/github/CSheppardCodes/PythonDataScienceHandbook/blob/main/PythonDSH1.ipynb\" target=\"_parent\"><img src=\"https://colab.research.google.com/assets/colab-badge.svg\" alt=\"Open In Colab\"/></a>"
      ]
    },
    {
      "cell_type": "markdown",
      "source": [
        "##SECTION 1 IPYTHON"
      ],
      "metadata": {
        "id": "xFZqiqfBQ9kL"
      }
    },
    {
      "cell_type": "markdown",
      "source": [
        "enter ! to type terminal commands in Ipython"
      ],
      "metadata": {
        "id": "zb77TxPtQO6Z"
      }
    },
    {
      "cell_type": "code",
      "execution_count": null,
      "metadata": {
        "colab": {
          "base_uri": "https://localhost:8080/"
        },
        "id": "V0CC1OSzkN7P",
        "outputId": "1eb33822-8c05-4160-aac5-1bb8343055bd"
      },
      "outputs": [
        {
          "output_type": "stream",
          "name": "stdout",
          "text": [
            "/content\n"
          ]
        },
        {
          "output_type": "execute_result",
          "data": {
            "text/plain": [
              "IPython.utils.text.SList"
            ]
          },
          "metadata": {},
          "execution_count": 68
        }
      ],
      "source": [
        "directory = !pwd\n",
        "\n",
        "print(directory[0])\n",
        "type(directory)"
      ]
    },
    {
      "cell_type": "markdown",
      "source": [
        "?? shows python code used to create function\n",
        "%xmode adjusts error message modality"
      ],
      "metadata": {
        "id": "tr1VbzdMQWeT"
      }
    },
    {
      "cell_type": "code",
      "source": [
        "list??\n",
        "%xmode verbose"
      ],
      "metadata": {
        "colab": {
          "base_uri": "https://localhost:8080/"
        },
        "id": "EQLpYOzYy0Jw",
        "outputId": "9b860e0f-f74a-4674-e506-f70cb41fd669"
      },
      "execution_count": null,
      "outputs": [
        {
          "output_type": "stream",
          "name": "stdout",
          "text": [
            "Exception reporting mode: Verbose\n"
          ]
        }
      ]
    },
    {
      "cell_type": "code",
      "source": [
        "%automagic # \n"
      ],
      "metadata": {
        "colab": {
          "base_uri": "https://localhost:8080/"
        },
        "id": "dGnE1Ugb22D0",
        "outputId": "b5400756-d13a-4897-bb36-aa410cea9c85"
      },
      "execution_count": null,
      "outputs": [
        {
          "output_type": "stream",
          "name": "stdout",
          "text": [
            "\n",
            "Automagic is ON, % prefix IS NOT needed for line magics.\n"
          ]
        }
      ]
    },
    {
      "cell_type": "code",
      "source": [
        "ls# error to test %xmode error message, toggle automagic for ls command to work."
      ],
      "metadata": {
        "colab": {
          "base_uri": "https://localhost:8080/"
        },
        "id": "Av7wWD1W0uke",
        "outputId": "7030bdd0-6815-459e-8ecc-8f5c90dd7ecc"
      },
      "execution_count": null,
      "outputs": [
        {
          "output_type": "stream",
          "name": "stdout",
          "text": [
            "\u001b[0m\u001b[01;34msample_data\u001b[0m/\n"
          ]
        }
      ]
    },
    {
      "cell_type": "markdown",
      "source": [
        "##SECTION 2 INTRO TO NUMPY"
      ],
      "metadata": {
        "id": "wG3mQwx_Q26N"
      }
    },
    {
      "cell_type": "code",
      "source": [
        "import numpy as np\n",
        "np.__version__"
      ],
      "metadata": {
        "id": "eVoWTTUR28Rx",
        "colab": {
          "base_uri": "https://localhost:8080/",
          "height": 35
        },
        "outputId": "c629c80a-a3a2-4f04-e8ff-1c34bafdd721"
      },
      "execution_count": null,
      "outputs": [
        {
          "output_type": "execute_result",
          "data": {
            "text/plain": [
              "'1.22.4'"
            ],
            "application/vnd.google.colaboratory.intrinsic+json": {
              "type": "string"
            }
          },
          "metadata": {},
          "execution_count": 72
        }
      ]
    },
    {
      "cell_type": "code",
      "source": [
        "np?\n"
      ],
      "metadata": {
        "id": "rAE25wqzFTgG"
      },
      "execution_count": null,
      "outputs": []
    },
    {
      "cell_type": "markdown",
      "source": [
        "#Creating Arrays from Scratch"
      ],
      "metadata": {
        "id": "VZFG9cPHMl99"
      }
    },
    {
      "cell_type": "code",
      "source": [
        "np.zeros(10, dtype=int) #length 10 int array filled with zeros"
      ],
      "metadata": {
        "id": "7pG9TfrxFqhj",
        "colab": {
          "base_uri": "https://localhost:8080/"
        },
        "outputId": "044eb1f7-c602-4836-c467-ff2fe94bab55"
      },
      "execution_count": null,
      "outputs": [
        {
          "output_type": "execute_result",
          "data": {
            "text/plain": [
              "array([0, 0, 0, 0, 0, 0, 0, 0, 0, 0])"
            ]
          },
          "metadata": {},
          "execution_count": 74
        }
      ]
    },
    {
      "cell_type": "code",
      "source": [
        "np.ones((3,5), dtype=float)#3x5 matrix filled with ones"
      ],
      "metadata": {
        "colab": {
          "base_uri": "https://localhost:8080/"
        },
        "id": "l9Yla3toM1bz",
        "outputId": "2afeb22f-d6fa-4f71-e862-43610fab4608"
      },
      "execution_count": null,
      "outputs": [
        {
          "output_type": "execute_result",
          "data": {
            "text/plain": [
              "array([[1., 1., 1., 1., 1.],\n",
              "       [1., 1., 1., 1., 1.],\n",
              "       [1., 1., 1., 1., 1.]])"
            ]
          },
          "metadata": {},
          "execution_count": 75
        }
      ]
    },
    {
      "cell_type": "code",
      "source": [
        "np.full((3,5), 3.14) # ((rows, col), fillwith)"
      ],
      "metadata": {
        "colab": {
          "base_uri": "https://localhost:8080/"
        },
        "id": "oQXXhSapNm-H",
        "outputId": "464ced85-92b6-47da-bfc7-6f0ccb429377"
      },
      "execution_count": null,
      "outputs": [
        {
          "output_type": "execute_result",
          "data": {
            "text/plain": [
              "array([[3.14, 3.14, 3.14, 3.14, 3.14],\n",
              "       [3.14, 3.14, 3.14, 3.14, 3.14],\n",
              "       [3.14, 3.14, 3.14, 3.14, 3.14]])"
            ]
          },
          "metadata": {},
          "execution_count": 76
        }
      ]
    },
    {
      "cell_type": "code",
      "source": [
        "np.arange(0,20,2)#(from, to, stepsize)\n"
      ],
      "metadata": {
        "colab": {
          "base_uri": "https://localhost:8080/"
        },
        "id": "n4W57CnkZCOz",
        "outputId": "209fcddd-7826-41be-ed9b-a8d38671e045"
      },
      "execution_count": null,
      "outputs": [
        {
          "output_type": "execute_result",
          "data": {
            "text/plain": [
              "array([ 0,  2,  4,  6,  8, 10, 12, 14, 16, 18])"
            ]
          },
          "metadata": {},
          "execution_count": 77
        }
      ]
    },
    {
      "cell_type": "code",
      "source": [
        "np.linspace(0,1,5)#5 values evenly from 0 to 1"
      ],
      "metadata": {
        "colab": {
          "base_uri": "https://localhost:8080/"
        },
        "id": "EzejovpqZ99R",
        "outputId": "ccf7f306-dcfe-4ae0-e76f-b2208cdcf23f"
      },
      "execution_count": null,
      "outputs": [
        {
          "output_type": "execute_result",
          "data": {
            "text/plain": [
              "array([0.  , 0.25, 0.5 , 0.75, 1.  ])"
            ]
          },
          "metadata": {},
          "execution_count": 78
        }
      ]
    },
    {
      "cell_type": "code",
      "source": [
        "np.random.random((3,4))#3x4 array uniformly distributed random floats between 0 and 1"
      ],
      "metadata": {
        "colab": {
          "base_uri": "https://localhost:8080/"
        },
        "id": "Dl_-ZLhJaq_5",
        "outputId": "5e108879-4e7c-49ec-a413-502f0f29602d"
      },
      "execution_count": null,
      "outputs": [
        {
          "output_type": "execute_result",
          "data": {
            "text/plain": [
              "array([[0.43785481, 0.71083274, 0.99692951, 0.20564521],\n",
              "       [0.05922672, 0.9171189 , 0.75315821, 0.5785332 ],\n",
              "       [0.86223612, 0.46299481, 0.16154563, 0.79173144]])"
            ]
          },
          "metadata": {},
          "execution_count": 79
        }
      ]
    },
    {
      "cell_type": "code",
      "source": [
        "np.random.normal(0,1,(3,4))#3x4 normally distributed random, (mean, standard dev, (row, col|))"
      ],
      "metadata": {
        "colab": {
          "base_uri": "https://localhost:8080/"
        },
        "id": "ixxjReIhbh1G",
        "outputId": "f485ba20-33d5-4d42-cbe2-e513f5d621bc"
      },
      "execution_count": null,
      "outputs": [
        {
          "output_type": "execute_result",
          "data": {
            "text/plain": [
              "array([[-0.93070574,  0.76232795, -0.20243874,  1.40511864],\n",
              "       [ 0.8674715 ,  1.90694543, -1.96928417, -1.79791376],\n",
              "       [ 0.30540342, -0.58468524,  0.01574332,  1.40758966]])"
            ]
          },
          "metadata": {},
          "execution_count": 80
        }
      ]
    },
    {
      "cell_type": "code",
      "source": [
        "np.random.randint(0,10,(3,4)) # 3x4 rand ints from [0, 10)"
      ],
      "metadata": {
        "colab": {
          "base_uri": "https://localhost:8080/"
        },
        "id": "o3v5MYiWcLFR",
        "outputId": "e58d603b-ebc8-4d37-9328-b09cd1ea4a9b"
      },
      "execution_count": null,
      "outputs": [
        {
          "output_type": "execute_result",
          "data": {
            "text/plain": [
              "array([[4, 4, 7, 5],\n",
              "       [2, 1, 5, 2],\n",
              "       [7, 0, 4, 6]])"
            ]
          },
          "metadata": {},
          "execution_count": 81
        }
      ]
    },
    {
      "cell_type": "code",
      "source": [
        "np.eye(3,3, dtype='bool') #3x3 identity"
      ],
      "metadata": {
        "colab": {
          "base_uri": "https://localhost:8080/"
        },
        "id": "I5NxxzkPczH2",
        "outputId": "5c308f6c-20ad-4566-a79e-6ff62e859a4c"
      },
      "execution_count": null,
      "outputs": [
        {
          "output_type": "execute_result",
          "data": {
            "text/plain": [
              "array([[ True, False, False],\n",
              "       [False,  True, False],\n",
              "       [False, False,  True]])"
            ]
          },
          "metadata": {},
          "execution_count": 82
        }
      ]
    },
    {
      "cell_type": "markdown",
      "source": [
        "Freestyle"
      ],
      "metadata": {
        "id": "ugqU4l2KeMYr"
      }
    },
    {
      "cell_type": "code",
      "source": [
        "np.empty(5)#unitialized ?really weird, values are what happens to already exist in that memory location"
      ],
      "metadata": {
        "colab": {
          "base_uri": "https://localhost:8080/"
        },
        "id": "PG0l9KgLdA0j",
        "outputId": "24a1909f-1b71-4769-d13f-90d03d770eb5"
      },
      "execution_count": null,
      "outputs": [
        {
          "output_type": "execute_result",
          "data": {
            "text/plain": [
              "array([0.  , 0.25, 0.5 , 0.75, 1.  ])"
            ]
          },
          "metadata": {},
          "execution_count": 83
        }
      ]
    },
    {
      "cell_type": "code",
      "source": [
        "np.random.randint(0,10,(3))"
      ],
      "metadata": {
        "colab": {
          "base_uri": "https://localhost:8080/"
        },
        "id": "P-1GXclrdp-d",
        "outputId": "88139b77-ed1e-425c-94c6-756539ba9579"
      },
      "execution_count": null,
      "outputs": [
        {
          "output_type": "execute_result",
          "data": {
            "text/plain": [
              "array([0, 9, 7])"
            ]
          },
          "metadata": {},
          "execution_count": 84
        }
      ]
    },
    {
      "cell_type": "code",
      "source": [
        "np.eye(1,3,dtype='uint8')"
      ],
      "metadata": {
        "colab": {
          "base_uri": "https://localhost:8080/"
        },
        "id": "eHD-h6s6ds0Z",
        "outputId": "f9453748-06f6-4efa-c581-006132ef2524"
      },
      "execution_count": null,
      "outputs": [
        {
          "output_type": "execute_result",
          "data": {
            "text/plain": [
              "array([[1, 0, 0]], dtype=uint8)"
            ]
          },
          "metadata": {},
          "execution_count": 85
        }
      ]
    },
    {
      "cell_type": "markdown",
      "source": [
        "##Basics of Numerical Python Arrays\n",
        "\n",
        "\n",
        "*   Attributes of arrays: Determining the size, shape, memory consumption, and data types of arrays\n",
        "*   Indexing of arrays: Getting and setting the value of individual array elements\n",
        "*   Slicing of arrays: Getting and setting smaller subarrays within a larger array\n",
        "*   Reshaping of arrays: Changing the shape of a given array\n",
        "*   Joining and splitting of arrays: Combining multiple arrays into one, and splitting one array into many\n",
        "\n"
      ],
      "metadata": {
        "id": "GC9epcGFiV_n"
      }
    },
    {
      "cell_type": "markdown",
      "source": [
        "#1. Attributes of arrays: Determining the size, shape, memory consumption, and data types of arrays"
      ],
      "metadata": {
        "id": "GlNLolK_n4lj"
      }
    },
    {
      "cell_type": "code",
      "source": [
        "import numpy as np\n",
        "np.random.seed(0) #reproduce random\n",
        "\n",
        "\n",
        "x1 = np.random.randint(10, size = 6)\n",
        "x2 = np.random.randint(10, size = (3,4))\n",
        "x3 = np.random.randint(10, size = (3,4,5))"
      ],
      "metadata": {
        "id": "W28dqVnteBRm"
      },
      "execution_count": null,
      "outputs": []
    },
    {
      "cell_type": "code",
      "source": [
        "print(\"x3 ndim: \", x3.ndim)     #number of dimensions\n",
        "print(\"x3 shape: \", x3.shape)   #size of each dimension\n",
        "print(\"x3 size: \", x3.size)     #total size of array"
      ],
      "metadata": {
        "colab": {
          "base_uri": "https://localhost:8080/"
        },
        "id": "lqxHcioroXa8",
        "outputId": "ae5f8377-7393-4e17-ab8e-4b0ca0791089"
      },
      "execution_count": null,
      "outputs": [
        {
          "output_type": "stream",
          "name": "stdout",
          "text": [
            "x3 ndim:  3\n",
            "x3 shape:  (3, 4, 5)\n",
            "x3 size:  60\n"
          ]
        }
      ]
    },
    {
      "cell_type": "code",
      "source": [
        "print('dtype:', x3.dtype)\n"
      ],
      "metadata": {
        "colab": {
          "base_uri": "https://localhost:8080/"
        },
        "id": "DM6QsaMwow37",
        "outputId": "6398bf24-fd2b-4806-980f-16ade13b3b07"
      },
      "execution_count": null,
      "outputs": [
        {
          "output_type": "stream",
          "name": "stdout",
          "text": [
            "dtype: int64\n"
          ]
        }
      ]
    },
    {
      "cell_type": "code",
      "source": [
        "x1[0]"
      ],
      "metadata": {
        "colab": {
          "base_uri": "https://localhost:8080/"
        },
        "id": "f_EYDokZpJQa",
        "outputId": "ba23a76a-774b-4add-d37b-7155fe85c991"
      },
      "execution_count": null,
      "outputs": [
        {
          "output_type": "execute_result",
          "data": {
            "text/plain": [
              "5"
            ]
          },
          "metadata": {},
          "execution_count": 95
        }
      ]
    },
    {
      "cell_type": "code",
      "source": [
        "x3"
      ],
      "metadata": {
        "colab": {
          "base_uri": "https://localhost:8080/"
        },
        "id": "jfdDdv7bpgwo",
        "outputId": "9492e2d0-20bb-4b3f-89e0-56ab01b93ca5"
      },
      "execution_count": null,
      "outputs": [
        {
          "output_type": "execute_result",
          "data": {
            "text/plain": [
              "array([[[8, 1, 5, 9, 8],\n",
              "        [9, 4, 3, 0, 3],\n",
              "        [5, 0, 2, 3, 8],\n",
              "        [1, 3, 3, 3, 7]],\n",
              "\n",
              "       [[0, 1, 9, 9, 0],\n",
              "        [4, 7, 3, 2, 7],\n",
              "        [2, 0, 0, 4, 5],\n",
              "        [5, 6, 8, 4, 1]],\n",
              "\n",
              "       [[4, 9, 8, 1, 1],\n",
              "        [7, 9, 9, 3, 6],\n",
              "        [7, 2, 0, 3, 5],\n",
              "        [9, 4, 4, 6, 4]]])"
            ]
          },
          "metadata": {},
          "execution_count": 96
        }
      ]
    },
    {
      "cell_type": "code",
      "source": [
        "x3[0,2,1]= 0.9999#truncate\n",
        "x3[0,2,1]"
      ],
      "metadata": {
        "colab": {
          "base_uri": "https://localhost:8080/"
        },
        "id": "hb7D0FDWqYva",
        "outputId": "d80a771b-f93a-46b0-87c1-945d8a875577"
      },
      "execution_count": null,
      "outputs": [
        {
          "output_type": "execute_result",
          "data": {
            "text/plain": [
              "0"
            ]
          },
          "metadata": {},
          "execution_count": 100
        }
      ]
    },
    {
      "cell_type": "markdown",
      "source": [
        "#2. Array Slicing: Accessing Subarrays"
      ],
      "metadata": {
        "id": "gTpQw7tXrVyf"
      }
    },
    {
      "cell_type": "code",
      "source": [
        "#x[start:stop:step] default = start=0, stop=size of dimension, step=1\n",
        "x = np.arange(10)\n",
        "x"
      ],
      "metadata": {
        "colab": {
          "base_uri": "https://localhost:8080/"
        },
        "id": "43GyvgSmqrH3",
        "outputId": "4c8f5c96-0d17-4aa5-a6bc-5502b6622c57"
      },
      "execution_count": null,
      "outputs": [
        {
          "output_type": "execute_result",
          "data": {
            "text/plain": [
              "array([0, 1, 2, 3, 4, 5, 6, 7, 8, 9])"
            ]
          },
          "metadata": {},
          "execution_count": 102
        }
      ]
    },
    {
      "cell_type": "code",
      "source": [
        "x[:5]#first 5 elements"
      ],
      "metadata": {
        "colab": {
          "base_uri": "https://localhost:8080/"
        },
        "id": "eo20O14bwcMr",
        "outputId": "524bf315-fabb-4859-af3e-1b079520c5da"
      },
      "execution_count": null,
      "outputs": [
        {
          "output_type": "execute_result",
          "data": {
            "text/plain": [
              "array([0, 1, 2, 3, 4])"
            ]
          },
          "metadata": {},
          "execution_count": 112
        }
      ]
    },
    {
      "cell_type": "code",
      "source": [
        "x[::-1]#all elements reversed"
      ],
      "metadata": {
        "colab": {
          "base_uri": "https://localhost:8080/"
        },
        "id": "vh25DFiGwd0A",
        "outputId": "c8d56c3b-2d2c-4957-dbaf-35d16aae05b1"
      },
      "execution_count": null,
      "outputs": [
        {
          "output_type": "execute_result",
          "data": {
            "text/plain": [
              "array([9, 8, 7, 6, 5, 4, 3, 2, 1, 0])"
            ]
          },
          "metadata": {},
          "execution_count": 106
        }
      ]
    },
    {
      "cell_type": "markdown",
      "source": [
        "Multi-dimensional sub-arrays"
      ],
      "metadata": {
        "id": "36gxSz9i78Tx"
      }
    },
    {
      "cell_type": "code",
      "source": [
        "x2"
      ],
      "metadata": {
        "colab": {
          "base_uri": "https://localhost:8080/"
        },
        "id": "XfdBGMog7trm",
        "outputId": "598c6e8d-efc9-4d43-8514-22fb9fc79a8f"
      },
      "execution_count": null,
      "outputs": [
        {
          "output_type": "execute_result",
          "data": {
            "text/plain": [
              "array([[3, 5, 2, 4],\n",
              "       [7, 6, 8, 8],\n",
              "       [1, 6, 7, 7]])"
            ]
          },
          "metadata": {},
          "execution_count": 108
        }
      ]
    },
    {
      "cell_type": "code",
      "source": [
        "x2[1:3,1:3]#[start,stop)"
      ],
      "metadata": {
        "colab": {
          "base_uri": "https://localhost:8080/"
        },
        "id": "lm6driMU8ChZ",
        "outputId": "6fd69d1d-ceae-4e67-caf5-b16f4d24376c"
      },
      "execution_count": null,
      "outputs": [
        {
          "output_type": "execute_result",
          "data": {
            "text/plain": [
              "array([[6, 8],\n",
              "       [6, 7]])"
            ]
          },
          "metadata": {},
          "execution_count": 125
        }
      ]
    },
    {
      "cell_type": "code",
      "source": [
        "x2[::2,::2]#[[row_start:row_stop:row_step),[col_start:col_stop:col_step)]"
      ],
      "metadata": {
        "colab": {
          "base_uri": "https://localhost:8080/"
        },
        "id": "arcrOkWp9yLB",
        "outputId": "33563791-baa7-4364-b799-0e68488965fd"
      },
      "execution_count": null,
      "outputs": [
        {
          "output_type": "execute_result",
          "data": {
            "text/plain": [
              "array([[3, 2],\n",
              "       [1, 7]])"
            ]
          },
          "metadata": {},
          "execution_count": 115
        }
      ]
    },
    {
      "cell_type": "code",
      "source": [
        "x2[::-1,::-1]#revers each dimension"
      ],
      "metadata": {
        "colab": {
          "base_uri": "https://localhost:8080/"
        },
        "id": "NWN6DCMl-gUb",
        "outputId": "d8f1d454-5a4c-4532-88e1-8c2c55e71fe4"
      },
      "execution_count": null,
      "outputs": [
        {
          "output_type": "execute_result",
          "data": {
            "text/plain": [
              "array([[7, 7, 6, 1],\n",
              "       [8, 8, 6, 7],\n",
              "       [4, 2, 5, 3]])"
            ]
          },
          "metadata": {},
          "execution_count": 117
        }
      ]
    },
    {
      "cell_type": "code",
      "source": [
        "x2"
      ],
      "metadata": {
        "colab": {
          "base_uri": "https://localhost:8080/"
        },
        "id": "uG6HMyZ0_EU3",
        "outputId": "b27a81dc-3d66-4bf4-ba89-04fa5cbc7264"
      },
      "execution_count": null,
      "outputs": [
        {
          "output_type": "execute_result",
          "data": {
            "text/plain": [
              "array([[3, 5, 2, 4],\n",
              "       [7, 6, 8, 8],\n",
              "       [1, 6, 7, 7]])"
            ]
          },
          "metadata": {},
          "execution_count": 122
        }
      ]
    },
    {
      "cell_type": "code",
      "source": [
        "print(x2[:,0])#print first column \n",
        "              #i.e. access all rows but only first column"
      ],
      "metadata": {
        "colab": {
          "base_uri": "https://localhost:8080/"
        },
        "id": "gpjQ17wE_PBV",
        "outputId": "097076a7-48dc-4ed3-8d52-ba7751593481"
      },
      "execution_count": null,
      "outputs": [
        {
          "output_type": "stream",
          "name": "stdout",
          "text": [
            "[3 7 1]\n"
          ]
        }
      ]
    },
    {
      "cell_type": "code",
      "source": [
        "print(x2[0,:])#print first row \n",
        "              #i.e. access all columns but only first row"
      ],
      "metadata": {
        "colab": {
          "base_uri": "https://localhost:8080/"
        },
        "id": "Zp1wdjhAABx8",
        "outputId": "dfc229ff-aeec-448b-d6ef-4f199dd561fd"
      },
      "execution_count": null,
      "outputs": [
        {
          "output_type": "stream",
          "name": "stdout",
          "text": [
            "[3 5 2 4]\n"
          ]
        }
      ]
    },
    {
      "cell_type": "markdown",
      "source": [
        "#Subarrays as no-copy views\n",
        "array slices return views rather than copies of the array data."
      ],
      "metadata": {
        "id": "1UAVmG1HB1pe"
      }
    },
    {
      "cell_type": "code",
      "source": [
        "print(x2)"
      ],
      "metadata": {
        "colab": {
          "base_uri": "https://localhost:8080/"
        },
        "id": "eKwJBxamB1Fu",
        "outputId": "54d487d7-ddf7-4af1-a023-4e4e14e2e537"
      },
      "execution_count": null,
      "outputs": [
        {
          "output_type": "stream",
          "name": "stdout",
          "text": [
            "[[99  5  2  4]\n",
            " [ 7  6  8  8]\n",
            " [ 1  6  7  7]]\n"
          ]
        }
      ]
    },
    {
      "cell_type": "code",
      "source": [
        "x2_sub = x2[:2,:2]\n",
        "print(x2_sub)"
      ],
      "metadata": {
        "colab": {
          "base_uri": "https://localhost:8080/"
        },
        "id": "Ay1QhNPbBKv3",
        "outputId": "5752c0ce-8454-4ae9-8b64-eb96337feaa7"
      },
      "execution_count": null,
      "outputs": [
        {
          "output_type": "stream",
          "name": "stdout",
          "text": [
            "[[99  5]\n",
            " [ 7  6]]\n"
          ]
        }
      ]
    },
    {
      "cell_type": "code",
      "source": [
        "x2_sub[0,0] = 100\n",
        "print(x2_sub)"
      ],
      "metadata": {
        "colab": {
          "base_uri": "https://localhost:8080/"
        },
        "id": "SATCb8bCCURf",
        "outputId": "3e111fc5-7e97-461b-ba53-fd26581d4958"
      },
      "execution_count": null,
      "outputs": [
        {
          "output_type": "stream",
          "name": "stdout",
          "text": [
            "[[100   5]\n",
            " [  7   6]]\n"
          ]
        }
      ]
    },
    {
      "cell_type": "code",
      "source": [
        "print(x2)#original array is changed, x2_sub is a veiw not a copy"
      ],
      "metadata": {
        "colab": {
          "base_uri": "https://localhost:8080/"
        },
        "id": "bBbfJwpqCjmd",
        "outputId": "54bca0f5-0e08-40eb-e4be-e4c3cd4d3fca"
      },
      "execution_count": null,
      "outputs": [
        {
          "output_type": "stream",
          "name": "stdout",
          "text": [
            "[[100   5   2   4]\n",
            " [  7   6   8   8]\n",
            " [  1   6   7   7]]\n"
          ]
        }
      ]
    },
    {
      "cell_type": "markdown",
      "source": [
        "copy"
      ],
      "metadata": {
        "id": "tlPirEOYDSZJ"
      }
    },
    {
      "cell_type": "code",
      "source": [
        "x2_sub_copy = x2[:2,:2].copy()\n",
        "print(x2_sub_copy)"
      ],
      "metadata": {
        "colab": {
          "base_uri": "https://localhost:8080/"
        },
        "id": "TsJT579qC0Sk",
        "outputId": "5b8fec14-b8c2-4f3b-9ef3-805036201d66"
      },
      "execution_count": null,
      "outputs": [
        {
          "output_type": "stream",
          "name": "stdout",
          "text": [
            "[[100   5]\n",
            " [  7   6]]\n"
          ]
        }
      ]
    },
    {
      "cell_type": "code",
      "source": [
        "x2_sub_copy[0,0] = 42\n",
        "print(x2_sub_copy)"
      ],
      "metadata": {
        "colab": {
          "base_uri": "https://localhost:8080/"
        },
        "id": "cKW8cYj_De7e",
        "outputId": "7af6718b-d96d-4e6a-b4eb-6f90cb6ca080"
      },
      "execution_count": null,
      "outputs": [
        {
          "output_type": "stream",
          "name": "stdout",
          "text": [
            "[[42  5]\n",
            " [ 7  6]]\n"
          ]
        }
      ]
    },
    {
      "cell_type": "code",
      "source": [
        "print(x2)#not modified because .copy()"
      ],
      "metadata": {
        "colab": {
          "base_uri": "https://localhost:8080/"
        },
        "id": "angbEU58Dq1m",
        "outputId": "010b425f-74f2-49ae-ff9f-cf8ac8bb4851"
      },
      "execution_count": null,
      "outputs": [
        {
          "output_type": "stream",
          "name": "stdout",
          "text": [
            "[[100   5   2   4]\n",
            " [  7   6   8   8]\n",
            " [  1   6   7   7]]\n"
          ]
        }
      ]
    },
    {
      "cell_type": "markdown",
      "source": [
        "##reshaping arrays"
      ],
      "metadata": {
        "id": "RzQU9QsOEMNw"
      }
    },
    {
      "cell_type": "code",
      "source": [
        "grid = np.arange(1,10).reshape((3,3))\n",
        "print(grid)"
      ],
      "metadata": {
        "colab": {
          "base_uri": "https://localhost:8080/"
        },
        "id": "xi4C_MELDss5",
        "outputId": "c8e192ed-eb69-4e6f-920c-1557f1768b5f"
      },
      "execution_count": null,
      "outputs": [
        {
          "output_type": "stream",
          "name": "stdout",
          "text": [
            "[[1 2 3]\n",
            " [4 5 6]\n",
            " [7 8 9]]\n"
          ]
        }
      ]
    },
    {
      "cell_type": "code",
      "source": [],
      "metadata": {
        "id": "lkMtwSLDEUhC"
      },
      "execution_count": null,
      "outputs": []
    }
  ]
}