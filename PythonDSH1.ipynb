{
  "nbformat": 4,
  "nbformat_minor": 0,
  "metadata": {
    "colab": {
      "provenance": [],
      "authorship_tag": "ABX9TyPW1mGig/b6shJyieNuSP1+",
      "include_colab_link": true
    },
    "kernelspec": {
      "name": "python3",
      "display_name": "Python 3"
    },
    "language_info": {
      "name": "python"
    }
  },
  "cells": [
    {
      "cell_type": "markdown",
      "metadata": {
        "id": "view-in-github",
        "colab_type": "text"
      },
      "source": [
        "<a href=\"https://colab.research.google.com/github/CSheppardCodes/PythonDataScienceHandbook/blob/main/PythonDSH1.ipynb\" target=\"_parent\"><img src=\"https://colab.research.google.com/assets/colab-badge.svg\" alt=\"Open In Colab\"/></a>"
      ]
    },
    {
      "cell_type": "markdown",
      "source": [
        "##SECTION 1 IPYTHON"
      ],
      "metadata": {
        "id": "xFZqiqfBQ9kL"
      }
    },
    {
      "cell_type": "markdown",
      "source": [
        "enter ! to type terminal commands in Ipython"
      ],
      "metadata": {
        "id": "zb77TxPtQO6Z"
      }
    },
    {
      "cell_type": "code",
      "execution_count": null,
      "metadata": {
        "colab": {
          "base_uri": "https://localhost:8080/"
        },
        "id": "V0CC1OSzkN7P",
        "outputId": "b2ec1b5f-28f4-4ae8-82d9-52e048da8b86"
      },
      "outputs": [
        {
          "output_type": "stream",
          "name": "stdout",
          "text": [
            "/content\n"
          ]
        },
        {
          "output_type": "execute_result",
          "data": {
            "text/plain": [
              "IPython.utils.text.SList"
            ]
          },
          "metadata": {},
          "execution_count": 4
        }
      ],
      "source": [
        "directory = !pwd\n",
        "\n",
        "print(directory[0])\n",
        "type(directory)"
      ]
    },
    {
      "cell_type": "markdown",
      "source": [
        "?? shows python code used to create function\n",
        "%xmode adjusts error message modality"
      ],
      "metadata": {
        "id": "tr1VbzdMQWeT"
      }
    },
    {
      "cell_type": "code",
      "source": [
        "list??\n",
        "%xmode verbose"
      ],
      "metadata": {
        "colab": {
          "base_uri": "https://localhost:8080/"
        },
        "id": "EQLpYOzYy0Jw",
        "outputId": "bfdb9139-9f46-4639-a239-aa3741b353a8"
      },
      "execution_count": null,
      "outputs": [
        {
          "output_type": "stream",
          "name": "stdout",
          "text": [
            "Exception reporting mode: Verbose\n"
          ]
        }
      ]
    },
    {
      "cell_type": "code",
      "source": [
        "%automagic # \n"
      ],
      "metadata": {
        "colab": {
          "base_uri": "https://localhost:8080/"
        },
        "id": "dGnE1Ugb22D0",
        "outputId": "a4856b32-b196-491a-f72b-376b422b9b5e"
      },
      "execution_count": null,
      "outputs": [
        {
          "output_type": "stream",
          "name": "stdout",
          "text": [
            "\n",
            "Automagic is OFF, % prefix IS needed for line magics.\n"
          ]
        }
      ]
    },
    {
      "cell_type": "code",
      "source": [
        "ls# error to test %xmode error message, toggle automagic for ls command to work."
      ],
      "metadata": {
        "colab": {
          "base_uri": "https://localhost:8080/",
          "height": 183
        },
        "id": "Av7wWD1W0uke",
        "outputId": "5bb286e1-3715-4d2c-d8ac-86cb564f2fec"
      },
      "execution_count": null,
      "outputs": [
        {
          "output_type": "error",
          "ename": "NameError",
          "evalue": "ignored",
          "traceback": [
            "\u001b[0;31m---------------------------------------------------------------------------\u001b[0m",
            "\u001b[0;31mNameError\u001b[0m                                 Traceback (most recent call last)",
            "\u001b[0;32m<ipython-input-22-023cc93272e5>\u001b[0m in \u001b[0;36m<cell line: 1>\u001b[0;34m()\u001b[0m\n\u001b[0;32m----> 1\u001b[0;31m \u001b[0mls\u001b[0m\u001b[0;34m\u001b[0m\u001b[0;34m\u001b[0m\u001b[0m\n\u001b[0m        \u001b[0;36mglobal\u001b[0m \u001b[0;36mls\u001b[0m \u001b[0;34m= \u001b[0;36mundefined\u001b[0m\u001b[0m\n",
            "\u001b[0;31mNameError\u001b[0m: name 'ls' is not defined"
          ]
        }
      ]
    },
    {
      "cell_type": "markdown",
      "source": [
        "##SECTION 2 INTRO TO NUMPY"
      ],
      "metadata": {
        "id": "wG3mQwx_Q26N"
      }
    },
    {
      "cell_type": "code",
      "source": [
        "import numpy as np\n",
        "np.__version__"
      ],
      "metadata": {
        "id": "eVoWTTUR28Rx",
        "colab": {
          "base_uri": "https://localhost:8080/",
          "height": 35
        },
        "outputId": "31135465-9426-4df0-f0be-21528bd30899"
      },
      "execution_count": null,
      "outputs": [
        {
          "output_type": "execute_result",
          "data": {
            "text/plain": [
              "'1.22.4'"
            ],
            "application/vnd.google.colaboratory.intrinsic+json": {
              "type": "string"
            }
          },
          "metadata": {},
          "execution_count": 3
        }
      ]
    },
    {
      "cell_type": "code",
      "source": [
        "np?\n"
      ],
      "metadata": {
        "id": "rAE25wqzFTgG"
      },
      "execution_count": null,
      "outputs": []
    },
    {
      "cell_type": "markdown",
      "source": [
        "#Creating Arrays from Scratch"
      ],
      "metadata": {
        "id": "VZFG9cPHMl99"
      }
    },
    {
      "cell_type": "code",
      "source": [
        "np.zeros(10, dtype=int) #length 10 int array filled with zeros"
      ],
      "metadata": {
        "id": "7pG9TfrxFqhj",
        "colab": {
          "base_uri": "https://localhost:8080/"
        },
        "outputId": "839ae4e5-3852-4539-a95b-92ac9f06d8e1"
      },
      "execution_count": 6,
      "outputs": [
        {
          "output_type": "execute_result",
          "data": {
            "text/plain": [
              "array([0, 0, 0, 0, 0, 0, 0, 0, 0, 0])"
            ]
          },
          "metadata": {},
          "execution_count": 6
        }
      ]
    },
    {
      "cell_type": "code",
      "source": [
        "np.ones((3,5), dtype=float)#3x5 matrix filled with ones"
      ],
      "metadata": {
        "colab": {
          "base_uri": "https://localhost:8080/"
        },
        "id": "l9Yla3toM1bz",
        "outputId": "15341678-f49b-4a94-c98e-b76d4fe712f9"
      },
      "execution_count": 8,
      "outputs": [
        {
          "output_type": "execute_result",
          "data": {
            "text/plain": [
              "array([[1., 1., 1., 1., 1.],\n",
              "       [1., 1., 1., 1., 1.],\n",
              "       [1., 1., 1., 1., 1.]])"
            ]
          },
          "metadata": {},
          "execution_count": 8
        }
      ]
    },
    {
      "cell_type": "code",
      "source": [
        "np.full((3,5), 3.14)"
      ],
      "metadata": {
        "colab": {
          "base_uri": "https://localhost:8080/"
        },
        "id": "oQXXhSapNm-H",
        "outputId": "3cb381ab-5294-43e0-cf6d-c94f92f3af08"
      },
      "execution_count": 10,
      "outputs": [
        {
          "output_type": "execute_result",
          "data": {
            "text/plain": [
              "array([[3.14, 3.14, 3.14, 3.14, 3.14],\n",
              "       [3.14, 3.14, 3.14, 3.14, 3.14],\n",
              "       [3.14, 3.14, 3.14, 3.14, 3.14]])"
            ]
          },
          "metadata": {},
          "execution_count": 10
        }
      ]
    },
    {
      "cell_type": "code",
      "source": [],
      "metadata": {
        "id": "n4W57CnkZCOz"
      },
      "execution_count": null,
      "outputs": []
    }
  ]
}